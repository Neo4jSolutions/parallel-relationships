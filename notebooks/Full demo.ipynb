{
 "cells": [
  {
   "cell_type": "markdown",
   "metadata": {
    "application/vnd.databricks.v1+cell": {
     "cellMetadata": {},
     "inputWidgets": {},
     "nuid": "cbe90c7b-d43e-433a-96ed-d2dce35227cb",
     "showTitle": false,
     "title": ""
    }
   },
   "source": [
    "### Install Neo4j packages"
   ]
  },
  {
   "cell_type": "code",
   "execution_count": 0,
   "metadata": {
    "application/vnd.databricks.v1+cell": {
     "cellMetadata": {
      "byteLimit": 2048000,
      "rowLimit": 10000
     },
     "inputWidgets": {},
     "nuid": "00f52df8-c123-49d0-afe1-b6c2bda763b4",
     "showTitle": false,
     "title": ""
    }
   },
   "outputs": [],
   "source": [
    "%%capture\n",
    "%pip install neo4j\n",
    "%pip install graphdatascience"
   ]
  },
  {
   "cell_type": "markdown",
   "metadata": {
    "application/vnd.databricks.v1+cell": {
     "cellMetadata": {},
     "inputWidgets": {},
     "nuid": "40b03d69-d803-4cac-b8f7-f625d2b0878a",
     "showTitle": false,
     "title": ""
    }
   },
   "source": [
    "### Create Neo4j Driver and set configuration variables"
   ]
  },
  {
   "cell_type": "code",
   "execution_count": 0,
   "metadata": {
    "application/vnd.databricks.v1+cell": {
     "cellMetadata": {
      "byteLimit": 2048000,
      "rowLimit": 10000
     },
     "inputWidgets": {},
     "nuid": "2309c5d0-6253-4286-99f1-dec7e0ebee9e",
     "showTitle": false,
     "title": ""
    }
   },
   "outputs": [
    {
     "name": "stderr",
     "output_type": "stream",
     "text": [
      "Failed to write data to connection ResolvedIPv4Address(('104.199.72.226', 7687)) (ResolvedIPv4Address(('104.199.72.226', 7687)))\n",
      "Failed to write data to connection IPv4Address(('62d77af8.databases.[REDACTED].io', 7687)) (ResolvedIPv4Address(('104.199.72.226', 7687)))\n"
     ]
    }
   ],
   "source": [
    "from neo4j import GraphDatabase\n",
    "\n",
    "Neo4jConnectionInfo = {\n",
    "    \"URI\": \"neo4j+s://62d77af8.databases.neo4j.io\", \n",
    "    \"Username\": dbutils.secrets.get(scope=\"neo4j\", key=\"username\"), \n",
    "    \"Password\": dbutils.secrets.get(scope=\"neo4j\", key=\"password\")\n",
    "}\n",
    "\n",
    "LoadSettings = {\n",
    "    \"writeMode\": \"Overwrite\",\n",
    "    \"partitionColName\": \"partitionCode\"\n",
    "}\n",
    "\n",
    "driver = GraphDatabase.driver(Neo4jConnectionInfo[\"URI\"], auth=(Neo4jConnectionInfo[\"Username\"], Neo4jConnectionInfo[\"Password\"]))\n"
   ]
  },
  {
   "cell_type": "markdown",
   "metadata": {
    "application/vnd.databricks.v1+cell": {
     "cellMetadata": {},
     "inputWidgets": {},
     "nuid": "49d01449-715e-4e32-adf7-4e5c562d7621",
     "showTitle": false,
     "title": ""
    }
   },
   "source": [
    "### Create constraints in the Neo4j database"
   ]
  },
  {
   "cell_type": "code",
   "execution_count": 0,
   "metadata": {
    "application/vnd.databricks.v1+cell": {
     "cellMetadata": {
      "byteLimit": 2048000,
      "rowLimit": 10000
     },
     "inputWidgets": {},
     "nuid": "2d40521b-32ed-4d17-a830-caa7ba7fcbd5",
     "showTitle": false,
     "title": ""
    }
   },
   "outputs": [
    {
     "data": {
      "text/plain": [
       "[]"
      ]
     },
     "execution_count": 26,
     "metadata": {},
     "output_type": "execute_result"
    }
   ],
   "source": [
    "\n",
    "# helper function\n",
    "def run(driver, query, params=None):\n",
    "    with driver.session() as session:\n",
    "        if params is not None:\n",
    "            return [r for r in session.run(query, params)]\n",
    "        else:\n",
    "            return [r for r in session.run(query)]\n",
    "\n",
    "run(driver,'CREATE CONSTRAINT userId_unique IF NOT EXISTS FOR (user:User) REQUIRE user.userId  IS UNIQUE')\n",
    "\n",
    "run(driver,'CREATE CONSTRAINT news_id_unique IF NOT EXISTS FOR (news:News) REQUIRE news.newsId IS UNIQUE')\n",
    "\n",
    "run(driver,'CREATE CONSTRAINT wiki_id_unique IF NOT EXISTS FOR (entity:WikiEntity) REQUIRE entity.wikidataId IS UNIQUE')\n",
    "\n",
    "run(driver,'CREATE CONSTRAINT category_subject_unique IF NOT EXISTS FOR (category:Category) REQUIRE category.subject IS UNIQUE')\n",
    "\n",
    "run(driver,'CREATE CONSTRAINT sub_category_subject_unique IF NOT EXISTS FOR (subcategory:Subcategory) REQUIRE subcategory.subject IS UNIQUE')"
   ]
  },
  {
   "cell_type": "markdown",
   "metadata": {
    "application/vnd.databricks.v1+cell": {
     "cellMetadata": {},
     "inputWidgets": {},
     "nuid": "b8f84ba3-dc8a-4d02-bd16-3249252f68c6",
     "showTitle": false,
     "title": ""
    }
   },
   "source": [
    "Run this in Workspace to delete all nodes and relationships in the db\n",
    "\n",
    "CALL apoc.periodic.iterate('MATCH (n) RETURN n', 'DETACH DELETE n', {batchSize: 500})"
   ]
  },
  {
   "cell_type": "markdown",
   "metadata": {
    "application/vnd.databricks.v1+cell": {
     "cellMetadata": {},
     "inputWidgets": {},
     "nuid": "7dd4526e-e6ae-4d1b-89af-b81131c37aa3",
     "showTitle": false,
     "title": ""
    }
   },
   "source": [
    "### Define utility functions for writing DataFrames to Neo4j"
   ]
  },
  {
   "cell_type": "code",
   "execution_count": 0,
   "metadata": {
    "application/vnd.databricks.v1+cell": {
     "cellMetadata": {
      "byteLimit": 2048000,
      "rowLimit": 10000
     },
     "inputWidgets": {},
     "nuid": "94b1be45-ecb2-49d3-87b9-37e706f97c9a",
     "showTitle": false,
     "title": ""
    }
   },
   "outputs": [],
   "source": [
    "\n",
    "from pyspark.sql.functions import col, substring, concat_ws\n",
    "\n",
    "def writeTableToNeo (tableName, cypherQuery):\n",
    "    df = spark.read.table(tableName)\n",
    "    result = (df.write\n",
    "        .format(\"org.neo4j.spark.DataSource\")\n",
    "        .option(\"url\", Neo4jConnectionInfo[\"URI\"])\n",
    "        .option(\"authentication.basic.username\", Neo4jConnectionInfo[\"Username\"])\n",
    "        .option(\"authentication.basic.password\", Neo4jConnectionInfo[\"Password\"])\n",
    "        .option(\"query\", cypherQuery)\n",
    "        .mode(LoadSettings[\"writeMode\"])\n",
    "        .save())\n",
    "    \n",
    "def writeTableToNeoSinglePartition (tableName, cypherQuery): \n",
    "    df = spark.read.table(tableName).repartition(1)\n",
    "    result = (df.write\n",
    "        .format(\"org.neo4j.spark.DataSource\")\n",
    "        .option(\"url\", Neo4jConnectionInfo[\"URI\"])\n",
    "        .option(\"authentication.basic.username\", Neo4jConnectionInfo[\"Username\"])\n",
    "        .option(\"authentication.basic.password\", Neo4jConnectionInfo[\"Password\"])\n",
    "        .option(\"query\", cypherQuery)\n",
    "        .mode(LoadSettings[\"writeMode\"])\n",
    "        .save())    \n",
    "    \n",
    "def writeDfToNeo (df, cypherQuery):\n",
    "    result = (df.write\n",
    "        .format(\"org.neo4j.spark.DataSource\")\n",
    "        .option(\"url\", Neo4jConnectionInfo[\"URI\"])\n",
    "        .option(\"authentication.basic.username\", Neo4jConnectionInfo[\"Username\"])\n",
    "        .option(\"authentication.basic.password\", Neo4jConnectionInfo[\"Password\"])\n",
    "        .option(\"batch.size\", 25000)\n",
    "        .option(\"query\", cypherQuery)\n",
    "        .mode(LoadSettings[\"writeMode\"])\n",
    "        .save())\n",
    "    \n",
    "# tableSize = 10 means a 10x10 table\n",
    "def getPartitionsAndBatches (tableSize):\n",
    "    batches = []\n",
    "    for i in range(tableSize):\n",
    "        partitions = []\n",
    "        for j in range(tableSize):\n",
    "            k = (i+j)%tableSize\n",
    "            partitions.append(str(k) + '-' + str(j))\n",
    "        batches.append(partitions)\n",
    "    return batches\n",
    "\n",
    "batches = getPartitionsAndBatches(10)    \n",
    "\n",
    "def filter_by_partition_code(df, partitionColName, partitionSet):\n",
    "    return df.filter(col(partitionColName).isin(partitionSet))\n",
    "\n",
    "def writeRelTableToNeo(tableName, startNodeCol, endNodeCol, cypherQuery):\n",
    "    df = spark.read.table(tableName)\n",
    "    partitionColName = LoadSettings['partitionColName']\n",
    "    newDf = df.withColumn(partitionColName, concat_ws('-', substring(df[startNodeCol], -1, 1), substring(df[endNodeCol], -1, 1)))\n",
    "    # Create separate DataFrames for each batch\n",
    "    dataframes = {}\n",
    "    for index, partitionSet in enumerate(batches):\n",
    "        dataframes[index] = filter_by_partition_code(newDf, partitionColName, partitionSet)\n",
    "        parallelRelDf = dataframes[index].repartition(10, partitionColName)\n",
    "        print('Num partitions (' + str(index) + '): ' + str(parallelRelDf.rdd.getNumPartitions()))\n",
    "\n",
    "        writeDfToNeo(parallelRelDf, cypherQuery)\n"
   ]
  },
  {
   "cell_type": "markdown",
   "metadata": {
    "application/vnd.databricks.v1+cell": {
     "cellMetadata": {},
     "inputWidgets": {},
     "nuid": "da6af4b2-11c1-465d-ad9d-0ea92df9bf73",
     "showTitle": false,
     "title": ""
    }
   },
   "source": [
    "### Process tables and write Nodes to Neo4j"
   ]
  },
  {
   "cell_type": "code",
   "execution_count": 0,
   "metadata": {
    "application/vnd.databricks.v1+cell": {
     "cellMetadata": {
      "byteLimit": 2048000,
      "rowLimit": 10000
     },
     "inputWidgets": {},
     "nuid": "2ad60cac-297c-4925-9c03-94f234579f98",
     "showTitle": false,
     "title": ""
    }
   },
   "outputs": [],
   "source": [
    "writeTableToNeo(\"users\", \"MERGE (user:User {userId: event.userId})\")\n",
    "writeTableToNeo(\"news\", \"\"\"\n",
    "    MERGE (news:News {\n",
    "      newsId: event.newsId,\n",
    "      category: event.category,\n",
    "      subcategory: event.subcategory,\n",
    "      title: event.title,\n",
    "      url: event.url})\n",
    "    WITH event, news\n",
    "    WHERE event.abstract IS NOT null\n",
    "    SET news.abstract = event.abstract\"\"\")\n",
    "writeTableToNeo(\"news_approx_time\", \"\"\"\n",
    "    MATCH (news:News {newsId: event.newsId})\n",
    "    SET news.approxTime = event.approxTime\n",
    "    \"\"\")\n",
    "writeTableToNeo(\"categories\", \"MERGE (category:Category {subject: event.category})\")\n",
    "writeTableToNeo(\"entities\", \"\"\"\n",
    "    MERGE(entity:WikiEntity {\n",
    "        wikidataId: event.WikidataId,\n",
    "        wikiLabel: event.Label,\n",
    "        wikiType: event.Type,\n",
    "        url: 'https://www.wikidata.org/wiki/' + event.WikidataId\n",
    "    })\"\"\")\n",
    "writeTableToNeo(\"entity_embedding\", \"\"\"\n",
    "    MATCH(entity:WikiEntity {wikidataId: event.wikiEntityId})\n",
    "    SET entity.wikiEncoding = toFloatList(split(event.entityEmbedding, ';'))\"\"\")\n"
   ]
  },
  {
   "cell_type": "markdown",
   "metadata": {
    "application/vnd.databricks.v1+cell": {
     "cellMetadata": {},
     "inputWidgets": {},
     "nuid": "a56bee7d-5fcf-44ff-a7ba-e2e846e18208",
     "showTitle": false,
     "title": ""
    }
   },
   "source": [
    "### Process tables and write Relationships to Neo4j"
   ]
  },
  {
   "cell_type": "code",
   "execution_count": 0,
   "metadata": {
    "application/vnd.databricks.v1+cell": {
     "cellMetadata": {
      "byteLimit": 2048000,
      "rowLimit": 10000
     },
     "inputWidgets": {},
     "nuid": "c6c36997-45de-4661-b7d8-e8999102a4bb",
     "showTitle": false,
     "title": ""
    }
   },
   "outputs": [
    {
     "name": "stdout",
     "output_type": "stream",
     "text": [
      "Num partitions (0): 10\n",
      "Num partitions (1): 10\n",
      "Num partitions (2): 10\n",
      "Num partitions (3): 10\n",
      "Num partitions (4): 10\n",
      "Num partitions (5): 10\n",
      "Num partitions (6): 10\n",
      "Num partitions (7): 10\n",
      "Num partitions (8): 10\n",
      "Num partitions (9): 10\n",
      "Num partitions (0): 10\n",
      "Num partitions (1): 10\n",
      "Num partitions (2): 10\n",
      "Num partitions (3): 10\n",
      "Num partitions (4): 10\n",
      "Num partitions (5): 10\n",
      "Num partitions (6): 10\n",
      "Num partitions (7): 10\n",
      "Num partitions (8): 10\n",
      "Num partitions (9): 10\n",
      "Num partitions (0): 10\n",
      "Num partitions (1): 10\n",
      "Num partitions (2): 10\n",
      "Num partitions (3): 10\n",
      "Num partitions (4): 10\n",
      "Num partitions (5): 10\n",
      "Num partitions (6): 10\n",
      "Num partitions (7): 10\n",
      "Num partitions (8): 10\n",
      "Num partitions (9): 10\n",
      "Num partitions (0): 10\n",
      "Num partitions (1): 10\n",
      "Num partitions (2): 10\n",
      "Num partitions (3): 10\n",
      "Num partitions (4): 10\n",
      "Num partitions (5): 10\n",
      "Num partitions (6): 10\n",
      "Num partitions (7): 10\n",
      "Num partitions (8): 10\n",
      "Num partitions (9): 10\n"
     ]
    }
   ],
   "source": [
    "writeTableToNeoSinglePartition(\"sub_category_of_category\", \"\"\"\n",
    "    MERGE(subcategory:Subcategory {subject: event.category + '-' + event.subcategory})\n",
    "    WITH subcategory, event\n",
    "    MATCH(category:Category {subject: event.category})\n",
    "    MERGE(subcategory)-[r:SUBCATEGORY_OF]->(category)\n",
    "    \"\"\")\n",
    "\n",
    "writeTableToNeoSinglePartition(\"news_belongs_to_sub_category\", \"\"\"\n",
    "    MATCH(subcategory:Subcategory {subject: event.category + '-' + event.subcategory})\n",
    "    MATCH(news:News {newsId: event.newsId})\n",
    "    MERGE(news)-[r:BELONGS_TO_SUBCATEGORY]->(subcategory)\n",
    "    \"\"\")\n",
    "\n",
    "writeRelTableToNeo(\"news_title_about\", \"newsId\", \"WikidataId\", \"\"\"\n",
    "    MATCH(news:News {newsId: event.newsId})\n",
    "    MATCH(entity:WikiEntity {wikidataId: event.WikidataId})\n",
    "    MERGE(news)-[r:TITLE_ABOUT{ confidence: toFloat(event.Confidence)}]->(entity)\n",
    "    \"\"\")\n",
    "\n",
    "writeRelTableToNeo(\"news_abstract_about\", \"newsId\", \"WikidataId\", \"\"\"\n",
    "    MATCH(news:News {newsId: event.newsId})\n",
    "    MATCH(entity:WikiEntity {wikidataId: event.WikidataId})\n",
    "    MERGE(news)-[r:ABSTRACT_ABOUT{ confidence: toFloat(event.Confidence)}]->(entity)\n",
    "    \"\"\")\n",
    "\n",
    "writeRelTableToNeo(\"clicks\", \"userId\", \"newsId\", \"\"\"\n",
    "    MATCH(user:User {userId: event.userId})\n",
    "    MATCH(news:News {newsId: event.newsId})\n",
    "    MERGE(user)-[r:CLICKED {\n",
    "      splitSet: event.splitSet,\n",
    "      impressionId: event.impressionId,\n",
    "      impressionTime: event.time\n",
    "    }]->(news)\n",
    "    \"\"\")\n",
    "\n",
    "writeRelTableToNeo(\"historic_clicks\", \"userId\", \"newsId\", \"\"\"\n",
    "    MATCH(user:User {userId: event.userId})\n",
    "    MATCH(news:News {newsId: event.newsId})\n",
    "    MERGE(user)-[r:HISTORICALLY_CLICKED {splitSet: event.splitSet}]->(news)\n",
    "    RETURN count(r)\n",
    "    \"\"\")\n",
    "\n",
    "# writeRelTableToNeo(\"did_not_clicks\", \"userId\", \"newsId\", \"\"\"\n",
    "#     MATCH(user:User {userId: event.userId})\n",
    "#     MATCH(news:News {newsId: event.newsId})\n",
    "#     MERGE(user)-[r:DID_NOT_CLICK {\n",
    "#       splitSet: event.splitSet,\n",
    "#       impressionId: event.impressionId,\n",
    "#       impressionTime: event.time\n",
    "#     }]->(news)\n",
    "#     \"\"\")"
   ]
  },
  {
   "cell_type": "markdown",
   "metadata": {
    "application/vnd.databricks.v1+cell": {
     "cellMetadata": {},
     "inputWidgets": {},
     "nuid": "800d1497-b915-429d-a309-0efd8b9be49b",
     "showTitle": false,
     "title": ""
    }
   },
   "source": [
    "### Initialize Neo4j Graph Data Science (GDS)"
   ]
  },
  {
   "cell_type": "code",
   "execution_count": 0,
   "metadata": {
    "application/vnd.databricks.v1+cell": {
     "cellMetadata": {
      "byteLimit": 2048000,
      "rowLimit": 10000
     },
     "inputWidgets": {},
     "nuid": "db0b67a3-e577-4dfc-a61d-3060d30251c3",
     "showTitle": false,
     "title": ""
    }
   },
   "outputs": [],
   "source": [
    "from graphdatascience import GraphDataScience\n",
    "\n",
    "gds = GraphDataScience(Neo4jConnectionInfo[\"URI\"], auth=(Neo4jConnectionInfo[\"Username\"], Neo4jConnectionInfo[\"Password\"]), aura_ds=True)\n"
   ]
  },
  {
   "cell_type": "markdown",
   "metadata": {
    "application/vnd.databricks.v1+cell": {
     "cellMetadata": {},
     "inputWidgets": {},
     "nuid": "d939f1a3-4b89-4c52-a3c2-b0be940c401a",
     "showTitle": false,
     "title": ""
    }
   },
   "source": [
    "### Basic Cypher Queries for Collaborative Filtering (CF) - not using GDS\n",
    "From here we could try just using Cypher to accomplish basic Collaborative Filtering. For example, take the below user and the news they clicked. You can see a mixed interest between a number of categories."
   ]
  },
  {
   "cell_type": "code",
   "execution_count": 0,
   "metadata": {
    "application/vnd.databricks.v1+cell": {
     "cellMetadata": {
      "byteLimit": 2048000,
      "rowLimit": 10000
     },
     "inputWidgets": {},
     "nuid": "8e506021-49ac-43da-8105-198102b7e81b",
     "showTitle": false,
     "title": ""
    }
   },
   "outputs": [],
   "source": [
    "USER_ID = \"U18465\""
   ]
  },
  {
   "cell_type": "code",
   "execution_count": 0,
   "metadata": {
    "application/vnd.databricks.v1+cell": {
     "cellMetadata": {
      "byteLimit": 2048000,
      "rowLimit": 10000
     },
     "inputWidgets": {},
     "nuid": "dc263b61-377a-4342-bbda-fdff3b28bf03",
     "showTitle": false,
     "title": ""
    }
   },
   "outputs": [
    {
     "data": {
      "text/html": [
       "<div>\n",
       "<style scoped>\n",
       "    .dataframe tbody tr th:only-of-type {\n",
       "        vertical-align: middle;\n",
       "    }\n",
       "\n",
       "    .dataframe tbody tr th {\n",
       "        vertical-align: top;\n",
       "    }\n",
       "\n",
       "    .dataframe thead th {\n",
       "        text-align: right;\n",
       "    }\n",
       "</style>\n",
       "<table border=\"1\" class=\"dataframe\">\n",
       "  <thead>\n",
       "    <tr style=\"text-align: right;\">\n",
       "      <th></th>\n",
       "      <th>newsId</th>\n",
       "      <th>title</th>\n",
       "      <th>abstract</th>\n",
       "      <th>category</th>\n",
       "      <th>subcategory</th>\n",
       "      <th>impressionTime</th>\n",
       "      <th>clickType</th>\n",
       "    </tr>\n",
       "  </thead>\n",
       "  <tbody>\n",
       "    <tr>\n",
       "      <th>0</th>\n",
       "      <td>N34130</td>\n",
       "      <td>The Kardashians Face Backlash Over 'Insensitiv...</td>\n",
       "      <td>Kardashian's Face Backlash Over Family Food Fight</td>\n",
       "      <td>tv</td>\n",
       "      <td>tv-celebrity</td>\n",
       "      <td>2019-11-15T13:22:55.000000000</td>\n",
       "      <td>CLICKED</td>\n",
       "    </tr>\n",
       "    <tr>\n",
       "      <th>1</th>\n",
       "      <td>N31958</td>\n",
       "      <td>Opinion: Colin Kaepernick is about to get what...</td>\n",
       "      <td>The end may be near for the 3-year-old saga of...</td>\n",
       "      <td>sports</td>\n",
       "      <td>football_nfl</td>\n",
       "      <td>2019-11-15T13:22:55.000000000</td>\n",
       "      <td>CLICKED</td>\n",
       "    </tr>\n",
       "    <tr>\n",
       "      <th>2</th>\n",
       "      <td>N48740</td>\n",
       "      <td>I've been writing about tiny homes for a year ...</td>\n",
       "      <td>I stayed in a tiny house for three days to see...</td>\n",
       "      <td>lifestyle</td>\n",
       "      <td>voices</td>\n",
       "      <td>2019-11-15T12:11:01.000000000</td>\n",
       "      <td>CLICKED</td>\n",
       "    </tr>\n",
       "    <tr>\n",
       "      <th>3</th>\n",
       "      <td>N60724</td>\n",
       "      <td>I'm A Queer Woman Dating A Trans Man   &amp; No On...</td>\n",
       "      <td>I'm a queer woman partnered with a transgender...</td>\n",
       "      <td>lifestyle</td>\n",
       "      <td>voices</td>\n",
       "      <td>2019-11-15T12:11:01.000000000</td>\n",
       "      <td>CLICKED</td>\n",
       "    </tr>\n",
       "    <tr>\n",
       "      <th>4</th>\n",
       "      <td>N44621</td>\n",
       "      <td>Koalas face threat from historic brush fires</td>\n",
       "      <td>Hundreds of vulnerable koalas are feared dead ...</td>\n",
       "      <td>weather</td>\n",
       "      <td>weathertopstories</td>\n",
       "      <td>2019-11-15T12:11:01.000000000</td>\n",
       "      <td>CLICKED</td>\n",
       "    </tr>\n",
       "    <tr>\n",
       "      <th>5</th>\n",
       "      <td>N10083</td>\n",
       "      <td>Debunking the week's tabloid stories: Nov. 15,...</td>\n",
       "      <td>A round-up of the week's tabloid stories that ...</td>\n",
       "      <td>entertainment</td>\n",
       "      <td>celebrity</td>\n",
       "      <td>2019-11-15T12:00:04.000000000</td>\n",
       "      <td>CLICKED</td>\n",
       "    </tr>\n",
       "    <tr>\n",
       "      <th>6</th>\n",
       "      <td>N6916</td>\n",
       "      <td>THEN AND NOW: What all your favorite '90s star...</td>\n",
       "      <td>These heartthrobs and fan favorites made the 1...</td>\n",
       "      <td>entertainment</td>\n",
       "      <td>celebrity</td>\n",
       "      <td>2019-11-15T10:26:28.000000000</td>\n",
       "      <td>CLICKED</td>\n",
       "    </tr>\n",
       "    <tr>\n",
       "      <th>7</th>\n",
       "      <td>N19990</td>\n",
       "      <td>Cows swept away by Hurricane Dorian found aliv...</td>\n",
       "      <td>A trio of wild cows believed to have been swep...</td>\n",
       "      <td>lifestyle</td>\n",
       "      <td>lifestylebuzz</td>\n",
       "      <td>2019-11-15T10:26:28.000000000</td>\n",
       "      <td>CLICKED</td>\n",
       "    </tr>\n",
       "    <tr>\n",
       "      <th>8</th>\n",
       "      <td>N5940</td>\n",
       "      <td>Meghan Markle and Hillary Clinton Secretly Spe...</td>\n",
       "      <td>Meghan Markle Invites Hillary Clinton to Her F...</td>\n",
       "      <td>lifestyle</td>\n",
       "      <td>lifestyleroyals</td>\n",
       "      <td>2019-11-15T10:08:57.000000000</td>\n",
       "      <td>CLICKED</td>\n",
       "    </tr>\n",
       "    <tr>\n",
       "      <th>9</th>\n",
       "      <td>N58748</td>\n",
       "      <td>Father-daughter first dance medley had every g...</td>\n",
       "      <td>How awesome is this first dance medley? They g...</td>\n",
       "      <td>video</td>\n",
       "      <td>viral</td>\n",
       "      <td>2019-11-15T08:34:38.000000000</td>\n",
       "      <td>CLICKED</td>\n",
       "    </tr>\n",
       "    <tr>\n",
       "      <th>10</th>\n",
       "      <td>N19990</td>\n",
       "      <td>Cows swept away by Hurricane Dorian found aliv...</td>\n",
       "      <td>A trio of wild cows believed to have been swep...</td>\n",
       "      <td>lifestyle</td>\n",
       "      <td>lifestylebuzz</td>\n",
       "      <td>2019-11-15T08:34:38.000000000</td>\n",
       "      <td>CLICKED</td>\n",
       "    </tr>\n",
       "    <tr>\n",
       "      <th>11</th>\n",
       "      <td>N62805</td>\n",
       "      <td>Daring rescue attempt when dog winds up on roof</td>\n",
       "      <td>It took a lot of trust and time to get this sc...</td>\n",
       "      <td>video</td>\n",
       "      <td>viral</td>\n",
       "      <td>2019-11-15T08:34:38.000000000</td>\n",
       "      <td>CLICKED</td>\n",
       "    </tr>\n",
       "    <tr>\n",
       "      <th>12</th>\n",
       "      <td>N40109</td>\n",
       "      <td>This Arctic blast is in its final day. But the...</td>\n",
       "      <td>The hundreds of millions of people gripped by ...</td>\n",
       "      <td>weather</td>\n",
       "      <td>weathertopstories</td>\n",
       "      <td>2019-11-14T13:49:38.000000000</td>\n",
       "      <td>CLICKED</td>\n",
       "    </tr>\n",
       "    <tr>\n",
       "      <th>13</th>\n",
       "      <td>N3841</td>\n",
       "      <td>Week in celebrity photos for Nov. 11-15, 2019</td>\n",
       "      <td>Week in celebrity photos for Nov. 11-15, 2019</td>\n",
       "      <td>entertainment</td>\n",
       "      <td>celebrity</td>\n",
       "      <td>2019-11-14T13:49:38.000000000</td>\n",
       "      <td>CLICKED</td>\n",
       "    </tr>\n",
       "    <tr>\n",
       "      <th>14</th>\n",
       "      <td>N36226</td>\n",
       "      <td>The 1 reason you shouldn't hesitate to claim S...</td>\n",
       "      <td>Seniors are often told to wait on Social Secur...</td>\n",
       "      <td>finance</td>\n",
       "      <td>finance-retirement</td>\n",
       "      <td>2019-11-14T13:49:38.000000000</td>\n",
       "      <td>CLICKED</td>\n",
       "    </tr>\n",
       "    <tr>\n",
       "      <th>15</th>\n",
       "      <td>N9621</td>\n",
       "      <td>These 30 Photos From the 2019 CMA Awards Will ...</td>\n",
       "      <td>Country's biggest and brightest stars stepped ...</td>\n",
       "      <td>music</td>\n",
       "      <td>cma-awards</td>\n",
       "      <td>2019-11-14T13:49:38.000000000</td>\n",
       "      <td>CLICKED</td>\n",
       "    </tr>\n",
       "    <tr>\n",
       "      <th>16</th>\n",
       "      <td>N18151</td>\n",
       "      <td>Abandoned mansions of the world's billionaires</td>\n",
       "      <td>From a marble mansion whose owner fled to the ...</td>\n",
       "      <td>finance</td>\n",
       "      <td>finance-real-estate</td>\n",
       "      <td>2019-11-14T13:49:38.000000000</td>\n",
       "      <td>CLICKED</td>\n",
       "    </tr>\n",
       "    <tr>\n",
       "      <th>17</th>\n",
       "      <td>N6837</td>\n",
       "      <td>Powerful side-by-side portraits show people ov...</td>\n",
       "      <td>Opava-based photographer Jan Langer captured s...</td>\n",
       "      <td>lifestyle</td>\n",
       "      <td>lifestylebuzz</td>\n",
       "      <td>2019-11-14T13:49:38.000000000</td>\n",
       "      <td>CLICKED</td>\n",
       "    </tr>\n",
       "    <tr>\n",
       "      <th>18</th>\n",
       "      <td>N53470</td>\n",
       "      <td>These Are America's Favorite Liquor Brands</td>\n",
       "      <td>According to a new report published by Wine &amp; ...</td>\n",
       "      <td>foodanddrink</td>\n",
       "      <td>beverages</td>\n",
       "      <td>2019-11-13T11:45:33.000000000</td>\n",
       "      <td>CLICKED</td>\n",
       "    </tr>\n",
       "    <tr>\n",
       "      <th>19</th>\n",
       "      <td>N43102</td>\n",
       "      <td>Wendy's Is Rolling Out Birthday Cake Frostys f...</td>\n",
       "      <td>Get your dipping fries ready.</td>\n",
       "      <td>foodanddrink</td>\n",
       "      <td>foodnews</td>\n",
       "      <td>2019-11-13T11:45:33.000000000</td>\n",
       "      <td>CLICKED</td>\n",
       "    </tr>\n",
       "    <tr>\n",
       "      <th>20</th>\n",
       "      <td>N35047</td>\n",
       "      <td>Thanksgiving side dishes: 11 unique recipes to...</td>\n",
       "      <td>While there will always be dishes you're unwil...</td>\n",
       "      <td>foodanddrink</td>\n",
       "      <td>foodnews</td>\n",
       "      <td>2019-11-13T11:45:33.000000000</td>\n",
       "      <td>CLICKED</td>\n",
       "    </tr>\n",
       "    <tr>\n",
       "      <th>21</th>\n",
       "      <td>N23028</td>\n",
       "      <td>13 low-paying jobs that actually pay off in re...</td>\n",
       "      <td>These jobs tend to offer generous retirement p...</td>\n",
       "      <td>finance</td>\n",
       "      <td>finance-career</td>\n",
       "      <td>2019-11-13T11:45:33.000000000</td>\n",
       "      <td>CLICKED</td>\n",
       "    </tr>\n",
       "    <tr>\n",
       "      <th>22</th>\n",
       "      <td>N29468</td>\n",
       "      <td>​'My Annoying Cough Turned Out To Be Lung Cancer'</td>\n",
       "      <td>As soon as I was coming out of anesthesia, he ...</td>\n",
       "      <td>health</td>\n",
       "      <td>ads-lung-health</td>\n",
       "      <td>2019-11-13T07:01:17.000000000</td>\n",
       "      <td>CLICKED</td>\n",
       "    </tr>\n",
       "    <tr>\n",
       "      <th>23</th>\n",
       "      <td>N51853</td>\n",
       "      <td>The problem with diamonds is they keep getting...</td>\n",
       "      <td>Americans are buying more diamond jewelry than...</td>\n",
       "      <td>finance</td>\n",
       "      <td>markets</td>\n",
       "      <td>2019-11-13T07:01:17.000000000</td>\n",
       "      <td>CLICKED</td>\n",
       "    </tr>\n",
       "    <tr>\n",
       "      <th>24</th>\n",
       "      <td>N60992</td>\n",
       "      <td>Gwen Stefani Reveals New Nickname for Her and ...</td>\n",
       "      <td>The singer said she is 'really excited' about ...</td>\n",
       "      <td>music</td>\n",
       "      <td>music-celebrity</td>\n",
       "      <td>2019-11-13T07:01:17.000000000</td>\n",
       "      <td>CLICKED</td>\n",
       "    </tr>\n",
       "    <tr>\n",
       "      <th>25</th>\n",
       "      <td>N57426</td>\n",
       "      <td>Jennifer Lopez Just Got a Teeny Chop to Her Bl...</td>\n",
       "      <td>In September, Jennifer Lopez debuted a new hai...</td>\n",
       "      <td>lifestyle</td>\n",
       "      <td>lifestylecelebstyle</td>\n",
       "      <td>2019-11-13T07:01:17.000000000</td>\n",
       "      <td>CLICKED</td>\n",
       "    </tr>\n",
       "    <tr>\n",
       "      <th>26</th>\n",
       "      <td>N14726</td>\n",
       "      <td>Barn Find: Large Collection Of Pontiac Firebir...</td>\n",
       "      <td>A total of nine Firebirds were discovered in M...</td>\n",
       "      <td>autos</td>\n",
       "      <td>autosclassics</td>\n",
       "      <td>2019-11-12T14:37:55.000000000</td>\n",
       "      <td>CLICKED</td>\n",
       "    </tr>\n",
       "    <tr>\n",
       "      <th>27</th>\n",
       "      <td>N52122</td>\n",
       "      <td>37 Years After His Wife Is Found Dead with an ...</td>\n",
       "      <td>37 Years After His Wife Is Found Dead with Ax ...</td>\n",
       "      <td>news</td>\n",
       "      <td>newscrime</td>\n",
       "      <td>2019-11-12T09:31:33.000000000</td>\n",
       "      <td>CLICKED</td>\n",
       "    </tr>\n",
       "    <tr>\n",
       "      <th>28</th>\n",
       "      <td>N63970</td>\n",
       "      <td>Dean Foods files for bankruptcy</td>\n",
       "      <td>Dean Foods, America's largest milk producer, i...</td>\n",
       "      <td>finance</td>\n",
       "      <td>finance-companies</td>\n",
       "      <td>2019-11-12T09:31:33.000000000</td>\n",
       "      <td>CLICKED</td>\n",
       "    </tr>\n",
       "    <tr>\n",
       "      <th>29</th>\n",
       "      <td>N49487</td>\n",
       "      <td>Dog tries to pick up his ball despite it being...</td>\n",
       "      <td>This video shows the funny moment Mason the Bo...</td>\n",
       "      <td>video</td>\n",
       "      <td>animals</td>\n",
       "      <td>2019-11-12T09:31:33.000000000</td>\n",
       "      <td>CLICKED</td>\n",
       "    </tr>\n",
       "    <tr>\n",
       "      <th>30</th>\n",
       "      <td>N6056</td>\n",
       "      <td>See what your favorite stars look like without...</td>\n",
       "      <td>They get glammed up for red carpet events, but...</td>\n",
       "      <td>entertainment</td>\n",
       "      <td>celebrity</td>\n",
       "      <td>2019-11-12T09:31:33.000000000</td>\n",
       "      <td>CLICKED</td>\n",
       "    </tr>\n",
       "    <tr>\n",
       "      <th>31</th>\n",
       "      <td>N6066</td>\n",
       "      <td>Shakira reflects on her career-threatening inj...</td>\n",
       "      <td>Shakira said she went into a deep depression t...</td>\n",
       "      <td>music</td>\n",
       "      <td>music-celebrity</td>\n",
       "      <td>2019-11-12T09:31:33.000000000</td>\n",
       "      <td>CLICKED</td>\n",
       "    </tr>\n",
       "    <tr>\n",
       "      <th>32</th>\n",
       "      <td>N7319</td>\n",
       "      <td>Cold weather: 70% of the country will experien...</td>\n",
       "      <td>Roughly 70% of the US will experience freezing...</td>\n",
       "      <td>weather</td>\n",
       "      <td>weathertopstories</td>\n",
       "      <td>2019-11-12T09:31:33.000000000</td>\n",
       "      <td>CLICKED</td>\n",
       "    </tr>\n",
       "    <tr>\n",
       "      <th>33</th>\n",
       "      <td>N63154</td>\n",
       "      <td>Scared Rabbit Abandoned In Box Clings To His F...</td>\n",
       "      <td>RSPCA When someone spotted a box on the side o...</td>\n",
       "      <td>lifestyle</td>\n",
       "      <td>lifestylebuzz</td>\n",
       "      <td>2019-11-12T06:49:01.000000000</td>\n",
       "      <td>CLICKED</td>\n",
       "    </tr>\n",
       "    <tr>\n",
       "      <th>34</th>\n",
       "      <td>N24111</td>\n",
       "      <td>Kanye West is teaming up with pastor Joel Oste...</td>\n",
       "      <td>The rapper and the megachurch leader are plann...</td>\n",
       "      <td>music</td>\n",
       "      <td>music-celebrity</td>\n",
       "      <td>2019-11-12T06:49:01.000000000</td>\n",
       "      <td>CLICKED</td>\n",
       "    </tr>\n",
       "    <tr>\n",
       "      <th>35</th>\n",
       "      <td>N61408</td>\n",
       "      <td>China's pork crisis is bigger than you think</td>\n",
       "      <td>African swine fever in world's second largest ...</td>\n",
       "      <td>finance</td>\n",
       "      <td>markets</td>\n",
       "      <td>2019-11-12T06:49:01.000000000</td>\n",
       "      <td>CLICKED</td>\n",
       "    </tr>\n",
       "    <tr>\n",
       "      <th>36</th>\n",
       "      <td>N4985</td>\n",
       "      <td>Abandoned farms for sale with plenty of promise</td>\n",
       "      <td>If you fancy snapping up your own farm without...</td>\n",
       "      <td>finance</td>\n",
       "      <td>finance-real-estate</td>\n",
       "      <td>2019-11-12T06:49:01.000000000</td>\n",
       "      <td>CLICKED</td>\n",
       "    </tr>\n",
       "    <tr>\n",
       "      <th>37</th>\n",
       "      <td>N13930</td>\n",
       "      <td>Fans are divided after Drake was revealed as a...</td>\n",
       "      <td>Fans are divided after the audience at Tyler, ...</td>\n",
       "      <td>music</td>\n",
       "      <td>musicnews</td>\n",
       "      <td>2019-11-11T12:52:49.000000000</td>\n",
       "      <td>CLICKED</td>\n",
       "    </tr>\n",
       "    <tr>\n",
       "      <th>38</th>\n",
       "      <td>N57713</td>\n",
       "      <td>The Queen's Dressmaker Reveals She Uses Gin to...</td>\n",
       "      <td>The Queen's Jewels Are Polished with Gin and W...</td>\n",
       "      <td>lifestyle</td>\n",
       "      <td>lifestyleroyals</td>\n",
       "      <td>2019-11-11T12:04:12.000000000</td>\n",
       "      <td>CLICKED</td>\n",
       "    </tr>\n",
       "    <tr>\n",
       "      <th>39</th>\n",
       "      <td>N55204</td>\n",
       "      <td>Stars Who Served in the Military</td>\n",
       "      <td>Adam Driver, Jeff Bridges, Ice-T and more star...</td>\n",
       "      <td>entertainment</td>\n",
       "      <td>entertainment-celebrity</td>\n",
       "      <td>2019-11-11T11:36:54.000000000</td>\n",
       "      <td>CLICKED</td>\n",
       "    </tr>\n",
       "    <tr>\n",
       "      <th>40</th>\n",
       "      <td>N13801</td>\n",
       "      <td>60+ Restaurants Where Veterans Eat for Free on...</td>\n",
       "      <td>Active military and veterans can score free do...</td>\n",
       "      <td>finance</td>\n",
       "      <td>personalfinance</td>\n",
       "      <td>2019-11-11T08:25:13.000000000</td>\n",
       "      <td>CLICKED</td>\n",
       "    </tr>\n",
       "    <tr>\n",
       "      <th>41</th>\n",
       "      <td>N12028</td>\n",
       "      <td>Frackers Prepare to Pull Back, Exacerbating a ...</td>\n",
       "      <td>After pushing U.S. oil and natural-gas product...</td>\n",
       "      <td>finance</td>\n",
       "      <td>markets</td>\n",
       "      <td>2019-11-11T05:29:33.000000000</td>\n",
       "      <td>CLICKED</td>\n",
       "    </tr>\n",
       "  </tbody>\n",
       "</table>\n",
       "</div>"
      ],
      "text/plain": [
       "    newsId  ... clickType\n",
       "0   N34130  ...   CLICKED\n",
       "1   N31958  ...   CLICKED\n",
       "2   N48740  ...   CLICKED\n",
       "3   N60724  ...   CLICKED\n",
       "4   N44621  ...   CLICKED\n",
       "5   N10083  ...   CLICKED\n",
       "6    N6916  ...   CLICKED\n",
       "7   N19990  ...   CLICKED\n",
       "8    N5940  ...   CLICKED\n",
       "9   N58748  ...   CLICKED\n",
       "10  N19990  ...   CLICKED\n",
       "11  N62805  ...   CLICKED\n",
       "12  N40109  ...   CLICKED\n",
       "13   N3841  ...   CLICKED\n",
       "14  N36226  ...   CLICKED\n",
       "15   N9621  ...   CLICKED\n",
       "16  N18151  ...   CLICKED\n",
       "17   N6837  ...   CLICKED\n",
       "18  N53470  ...   CLICKED\n",
       "19  N43102  ...   CLICKED\n",
       "20  N35047  ...   CLICKED\n",
       "21  N23028  ...   CLICKED\n",
       "22  N29468  ...   CLICKED\n",
       "23  N51853  ...   CLICKED\n",
       "24  N60992  ...   CLICKED\n",
       "25  N57426  ...   CLICKED\n",
       "26  N14726  ...   CLICKED\n",
       "27  N52122  ...   CLICKED\n",
       "28  N63970  ...   CLICKED\n",
       "29  N49487  ...   CLICKED\n",
       "30   N6056  ...   CLICKED\n",
       "31   N6066  ...   CLICKED\n",
       "32   N7319  ...   CLICKED\n",
       "33  N63154  ...   CLICKED\n",
       "34  N24111  ...   CLICKED\n",
       "35  N61408  ...   CLICKED\n",
       "36   N4985  ...   CLICKED\n",
       "37  N13930  ...   CLICKED\n",
       "38  N57713  ...   CLICKED\n",
       "39  N55204  ...   CLICKED\n",
       "40  N13801  ...   CLICKED\n",
       "41  N12028  ...   CLICKED\n",
       "\n",
       "[42 rows x 7 columns]"
      ]
     },
     "execution_count": 32,
     "metadata": {},
     "output_type": "execute_result"
    }
   ],
   "source": [
    "gds.run_cypher('''\n",
    "    MATCH (u1:User {userId: $userId})\n",
    "           -[r1:CLICKED]->(n1:News)\n",
    "    RETURN n1.newsId AS newsId,\n",
    "           n1.title AS title,\n",
    "           n1.abstract AS abstract,\n",
    "           n1.category AS category,\n",
    "           n1.subcategory As subcategory,\n",
    "           r1.impressionTime AS impressionTime,\n",
    "           type(r1) AS clickType\n",
    "    ORDER BY clickType, impressionTime DESC\n",
    "    ''', params={'userId': USER_ID})"
   ]
  },
  {
   "cell_type": "markdown",
   "metadata": {
    "application/vnd.databricks.v1+cell": {
     "cellMetadata": {},
     "inputWidgets": {},
     "nuid": "7b2f1fd3-f34c-4340-ab18-a4ba75406d1b",
     "showTitle": false,
     "title": ""
    }
   },
   "source": [
    "Assuming we can measure the similarity of user interests via commonly clicked news articles, we can do a three hop query to find potential recommendations for user U18465 based on the activity of users that clicked on the same news as U18465.\n",
    "\n",
    "With the below query we can get an aggregate count of the nodes we would need to traverse over to get the recommendations. "
   ]
  },
  {
   "cell_type": "code",
   "execution_count": 0,
   "metadata": {
    "application/vnd.databricks.v1+cell": {
     "cellMetadata": {
      "byteLimit": 2048000,
      "rowLimit": 10000
     },
     "inputWidgets": {},
     "nuid": "fc0914f5-ce2f-40d5-b86b-5cb1eb96fce7",
     "showTitle": false,
     "title": ""
    }
   },
   "outputs": [
    {
     "data": {
      "text/html": [
       "<div>\n",
       "<style scoped>\n",
       "    .dataframe tbody tr th:only-of-type {\n",
       "        vertical-align: middle;\n",
       "    }\n",
       "\n",
       "    .dataframe tbody tr th {\n",
       "        vertical-align: top;\n",
       "    }\n",
       "\n",
       "    .dataframe thead th {\n",
       "        text-align: right;\n",
       "    }\n",
       "</style>\n",
       "<table border=\"1\" class=\"dataframe\">\n",
       "  <thead>\n",
       "    <tr style=\"text-align: right;\">\n",
       "      <th></th>\n",
       "      <th>userId</th>\n",
       "      <th>clickedNews</th>\n",
       "      <th>likeUsers</th>\n",
       "      <th>potentialRecommendations</th>\n",
       "    </tr>\n",
       "  </thead>\n",
       "  <tbody>\n",
       "    <tr>\n",
       "      <th>0</th>\n",
       "      <td>U18465</td>\n",
       "      <td>41</td>\n",
       "      <td>19559</td>\n",
       "      <td>5907</td>\n",
       "    </tr>\n",
       "  </tbody>\n",
       "</table>\n",
       "</div>"
      ],
      "text/plain": [
       "   userId  clickedNews  likeUsers  potentialRecommendations\n",
       "0  U18465           41      19559                      5907"
      ]
     },
     "execution_count": 33,
     "metadata": {},
     "output_type": "execute_result"
    }
   ],
   "source": [
    "gds.run_cypher('''\n",
    "    MATCH (u1:User {userId: $userId})\n",
    "           -[r1:CLICKED]->(n1:News)\n",
    "           <-[r2:CLICKED]-(u2:User)\n",
    "           -[r3:CLICKED]->(n2:News)\n",
    "    RETURN u1.userId AS userId,\n",
    "           count(DISTINCT n1) AS clickedNews,\n",
    "           count(DISTINCT u2) AS likeUsers,\n",
    "           count(DISTINCT n2) AS potentialRecommendations\n",
    "    ''', params={'userId': USER_ID})"
   ]
  },
  {
   "cell_type": "markdown",
   "metadata": {
    "application/vnd.databricks.v1+cell": {
     "cellMetadata": {},
     "inputWidgets": {},
     "nuid": "24231dc8-b950-4072-a7df-e75df18954e4",
     "showTitle": false,
     "title": ""
    }
   },
   "source": [
    "### Scaling CF with GDS: FastRP Node Embeddings and K-Nearest-Neighbor (KNN)\n",
    "With GDS we can use FastRP node embeddings to reduce the dimensionality of the problem then use an unsupervised machine learning technique called K-Nearest Neighbor (KNN) to identify and draw recommendations between users with similar/close embeddings. Because FastRP embeddings are based off the graph structure, users with similar embeddings should also be relatively connected in the graph via having shared sets of viewed news articles.\n",
    "\n",
    "#### Graph Projection\n",
    "We will start with a graph projection leveraging the User and News nodes. We will also include both historic and recent impression clicks, but we will give less weight to historic clicks so-as to favor more recent user activity. Lastly we will use an UNDIRECTED orientation so FastRP can traverse the graph bi-directionaly."
   ]
  },
  {
   "cell_type": "code",
   "execution_count": 0,
   "metadata": {
    "application/vnd.databricks.v1+cell": {
     "cellMetadata": {
      "byteLimit": 2048000,
      "rowLimit": 10000
     },
     "inputWidgets": {},
     "nuid": "ad1c400a-3861-4035-952b-471f83bdbb98",
     "showTitle": false,
     "title": ""
    }
   },
   "outputs": [
    {
     "data": {
      "text/plain": [
       "graphName                                             embedding-projection\n",
       "database                                                             [REDACTED]\n",
       "databaseLocation                                                     local\n",
       "memoryUsage                                                               \n",
       "sizeInBytes                                                             -1\n",
       "nodeCount                                                           159295\n",
       "relationshipCount                                                  4720584\n",
       "configuration            {'relationshipProjection': {'HISTORICALLY_CLIC...\n",
       "density                                                           0.000186\n",
       "creationTime                           2024-03-08T19:07:26.785337562+00:00\n",
       "modificationTime                       2024-03-08T19:07:32.746542453+00:00\n",
       "schema                   {'graphProperties': {}, 'nodes': {'User': {'em...\n",
       "schemaWithOrientation    {'graphProperties': {}, 'nodes': {'User': {'em...\n",
       "Name: 0, dtype: object"
      ]
     },
     "execution_count": 48,
     "metadata": {},
     "output_type": "execute_result"
    }
   ],
   "source": [
    "gds.graph.drop('embedding-projection')"
   ]
  },
  {
   "cell_type": "code",
   "execution_count": 0,
   "metadata": {
    "application/vnd.databricks.v1+cell": {
     "cellMetadata": {
      "byteLimit": 2048000,
      "rowLimit": 10000
     },
     "inputWidgets": {},
     "nuid": "f605c3df-0ec6-4f04-9043-f64bcb0213af",
     "showTitle": false,
     "title": ""
    }
   },
   "outputs": [
    {
     "data": {
      "text/plain": [
       "nodeProjection            {'User': {'label': 'User', 'properties': {}}, ...\n",
       "relationshipProjection    {'HISTORICALLY_CLICKED': {'aggregation': 'DEFA...\n",
       "graphName                                              embedding-projection\n",
       "nodeCount                                                            159295\n",
       "relationshipCount                                                   4720584\n",
       "projectMillis                                                          1440\n",
       "Name: 0, dtype: object"
      ]
     },
     "execution_count": 49,
     "metadata": {},
     "output_type": "execute_result"
    }
   ],
   "source": [
    "g0, res = gds.graph.project('embedding-projection', ['User', 'News'], {\n",
    "    'CLICKED':{\n",
    "        'orientation':'UNDIRECTED',\n",
    "        'properties': {'weight': {'property': 'confidence', 'defaultValue': 1.0}}\n",
    "    },\n",
    "    'HISTORICALLY_CLICKED':{\n",
    "        'orientation':'UNDIRECTED',\n",
    "        'properties': {'weight': {'property': 'confidence', 'defaultValue': 0.1}}\n",
    "    }\n",
    "})\n",
    "res"
   ]
  },
  {
   "cell_type": "markdown",
   "metadata": {
    "application/vnd.databricks.v1+cell": {
     "cellMetadata": {},
     "inputWidgets": {},
     "nuid": "11bc5970-00d2-4951-85c0-660b5552b945",
     "showTitle": false,
     "title": ""
    }
   },
   "source": [
    "### FastRP\n",
    "When running FastRP we will make sure to include the relationship weight property. While we should be able to do this all in one projection, depending on the GDS version you are using, I find it easiest to write the embeddings back to the database and create a seperate projection just for KNN."
   ]
  },
  {
   "cell_type": "code",
   "execution_count": 0,
   "metadata": {
    "application/vnd.databricks.v1+cell": {
     "cellMetadata": {
      "byteLimit": 2048000,
      "rowLimit": 10000
     },
     "inputWidgets": {},
     "nuid": "11c96962-138a-41ce-ab39-f65476bf82c1",
     "showTitle": false,
     "title": ""
    }
   },
   "outputs": [],
   "source": [
    "gds.fastRP.mutate(g0, mutateProperty='embedding', embeddingDimension=256, randomSeed=7474, relationshipWeightProperty='weight');\n",
    "gds.graph.nodeProperties.write(g0, [\"embedding\"], [\"User\"]);"
   ]
  },
  {
   "cell_type": "markdown",
   "metadata": {
    "application/vnd.databricks.v1+cell": {
     "cellMetadata": {},
     "inputWidgets": {},
     "nuid": "b7147fbf-2d6a-459d-b710-cea26a16d40f",
     "showTitle": false,
     "title": ""
    }
   },
   "source": [
    "If you are curious this is what the embeddings look like, they are just vectors of floating point numbers. In this case they are are 256 numbers long as specified in the embeddingDimension parameter above."
   ]
  },
  {
   "cell_type": "code",
   "execution_count": 0,
   "metadata": {
    "application/vnd.databricks.v1+cell": {
     "cellMetadata": {
      "byteLimit": 2048000,
      "rowLimit": 10000
     },
     "inputWidgets": {},
     "nuid": "aca0b73a-20e2-4ba7-8453-77ea8fbe74fe",
     "showTitle": false,
     "title": ""
    }
   },
   "outputs": [
    {
     "data": {
      "text/html": [
       "<div>\n",
       "<style scoped>\n",
       "    .dataframe tbody tr th:only-of-type {\n",
       "        vertical-align: middle;\n",
       "    }\n",
       "\n",
       "    .dataframe tbody tr th {\n",
       "        vertical-align: top;\n",
       "    }\n",
       "\n",
       "    .dataframe thead th {\n",
       "        text-align: right;\n",
       "    }\n",
       "</style>\n",
       "<table border=\"1\" class=\"dataframe\">\n",
       "  <thead>\n",
       "    <tr style=\"text-align: right;\">\n",
       "      <th></th>\n",
       "      <th>n.userId</th>\n",
       "      <th>n.embedding</th>\n",
       "    </tr>\n",
       "  </thead>\n",
       "  <tbody>\n",
       "    <tr>\n",
       "      <th>0</th>\n",
       "      <td>U13740</td>\n",
       "      <td>[0.11379876732826233, 0.10179446637630463, 0.0...</td>\n",
       "    </tr>\n",
       "    <tr>\n",
       "      <th>1</th>\n",
       "      <td>U91836</td>\n",
       "      <td>[-0.02173590287566185, -0.04518648982048035, 0...</td>\n",
       "    </tr>\n",
       "    <tr>\n",
       "      <th>2</th>\n",
       "      <td>U59196</td>\n",
       "      <td>[0.16520173847675323, -0.041554875671863556, -...</td>\n",
       "    </tr>\n",
       "    <tr>\n",
       "      <th>3</th>\n",
       "      <td>U73700</td>\n",
       "      <td>[-0.030124668031930923, 0.027448158711194992, ...</td>\n",
       "    </tr>\n",
       "    <tr>\n",
       "      <th>4</th>\n",
       "      <td>U34670</td>\n",
       "      <td>[0.1975572109222412, 0.016372354701161385, -0....</td>\n",
       "    </tr>\n",
       "    <tr>\n",
       "      <th>5</th>\n",
       "      <td>U8125</td>\n",
       "      <td>[0.029716797173023224, -0.19273772835731506, 0...</td>\n",
       "    </tr>\n",
       "    <tr>\n",
       "      <th>6</th>\n",
       "      <td>U19739</td>\n",
       "      <td>[0.07212769985198975, -0.0009595770388841629, ...</td>\n",
       "    </tr>\n",
       "    <tr>\n",
       "      <th>7</th>\n",
       "      <td>U8355</td>\n",
       "      <td>[0.0269266739487648, -0.08955472707748413, 0.0...</td>\n",
       "    </tr>\n",
       "    <tr>\n",
       "      <th>8</th>\n",
       "      <td>U46596</td>\n",
       "      <td>[0.03828085586428642, -0.0747443288564682, 0.1...</td>\n",
       "    </tr>\n",
       "    <tr>\n",
       "      <th>9</th>\n",
       "      <td>U79199</td>\n",
       "      <td>[0.023930972442030907, -0.030633574351668358, ...</td>\n",
       "    </tr>\n",
       "  </tbody>\n",
       "</table>\n",
       "</div>"
      ],
      "text/plain": [
       "  n.userId                                        n.embedding\n",
       "0   U13740  [0.11379876732826233, 0.10179446637630463, 0.0...\n",
       "1   U91836  [-0.02173590287566185, -0.04518648982048035, 0...\n",
       "2   U59196  [0.16520173847675323, -0.041554875671863556, -...\n",
       "3   U73700  [-0.030124668031930923, 0.027448158711194992, ...\n",
       "4   U34670  [0.1975572109222412, 0.016372354701161385, -0....\n",
       "5    U8125  [0.029716797173023224, -0.19273772835731506, 0...\n",
       "6   U19739  [0.07212769985198975, -0.0009595770388841629, ...\n",
       "7    U8355  [0.0269266739487648, -0.08955472707748413, 0.0...\n",
       "8   U46596  [0.03828085586428642, -0.0747443288564682, 0.1...\n",
       "9   U79199  [0.023930972442030907, -0.030633574351668358, ..."
      ]
     },
     "execution_count": 51,
     "metadata": {},
     "output_type": "execute_result"
    }
   ],
   "source": [
    "gds.run_cypher('MATCH(n:User) RETURN n.userId, n.embedding LIMIT 10')"
   ]
  },
  {
   "cell_type": "markdown",
   "metadata": {
    "application/vnd.databricks.v1+cell": {
     "cellMetadata": {},
     "inputWidgets": {},
     "nuid": "5be964cd-9caa-4319-a3c7-ac1897fd1b81",
     "showTitle": false,
     "title": ""
    }
   },
   "source": [
    "### K-Nearest-Neighbors (KNN)\n",
    "We can now run KNN to estimate similarity (a.k.a. SIMILAR_USER) relationships between User nodes and write them back to the graph."
   ]
  },
  {
   "cell_type": "code",
   "execution_count": 0,
   "metadata": {
    "application/vnd.databricks.v1+cell": {
     "cellMetadata": {
      "byteLimit": 2048000,
      "rowLimit": 10000
     },
     "inputWidgets": {},
     "nuid": "dea14250-f58a-4c1b-bb02-c00c02561b68",
     "showTitle": false,
     "title": ""
    }
   },
   "outputs": [],
   "source": [
    "gds.graph.drop('cf-projection')"
   ]
  },
  {
   "cell_type": "code",
   "execution_count": 0,
   "metadata": {
    "application/vnd.databricks.v1+cell": {
     "cellMetadata": {
      "byteLimit": 2048000,
      "rowLimit": 10000
     },
     "inputWidgets": {},
     "nuid": "c81e6869-1d95-413b-9df9-e67d55137fe8",
     "showTitle": false,
     "title": ""
    }
   },
   "outputs": [
    {
     "data": {
      "text/plain": [
       "nodeProjection            {'User': {'label': 'User', 'properties': {'emb...\n",
       "relationshipProjection    {'__ALL__': {'aggregation': 'DEFAULT', 'orient...\n",
       "graphName                                                     cf-projection\n",
       "nodeCount                                                             94057\n",
       "relationshipCount                                                         0\n",
       "projectMillis                                                           999\n",
       "Name: 0, dtype: object"
      ]
     },
     "execution_count": 53,
     "metadata": {},
     "output_type": "execute_result"
    }
   ],
   "source": [
    "g1, res = gds.graph.project('cf-projection', {'User':{'properties':['embedding']}},'*')\n",
    "res"
   ]
  },
  {
   "cell_type": "code",
   "execution_count": 0,
   "metadata": {
    "application/vnd.databricks.v1+cell": {
     "cellMetadata": {
      "byteLimit": 2048000,
      "rowLimit": 10000
     },
     "inputWidgets": {},
     "nuid": "e9a9689b-aa62-4e38-b736-cb5a5d34173c",
     "showTitle": false,
     "title": ""
    }
   },
   "outputs": [],
   "source": [
    "knn_stats_df = gds.knn.write(g1, nodeProperties=['embedding'],\n",
    "    writeRelationshipType='SIMILAR_USER',\n",
    "    writeProperty='score',\n",
    "    sampleRate=1.0,\n",
    "    maxIterations=1000);"
   ]
  },
  {
   "cell_type": "markdown",
   "metadata": {
    "application/vnd.databricks.v1+cell": {
     "cellMetadata": {},
     "inputWidgets": {},
     "nuid": "b744ac03-96ae-4dfb-9264-da3c853d095d",
     "showTitle": false,
     "title": ""
    }
   },
   "source": [
    "KNN relationships are only written when a positive similarity is found between node pairs which, in this case, is based on cosine similarity between the nodeWeightProperty values of each node. here we are using the FastRP embedding we calculated over the click/historic click relationships as the nodeWeightProperty. "
   ]
  },
  {
   "cell_type": "markdown",
   "metadata": {
    "application/vnd.databricks.v1+cell": {
     "cellMetadata": {},
     "inputWidgets": {},
     "nuid": "737de661-b732-45e8-abc0-3933e134a721",
     "showTitle": false,
     "title": ""
    }
   },
   "source": [
    "### Collaborative Filtering with SIMILAR_USER Relationships\n",
    "Now we can structure a Collaborative filtering query for user U18465 but with\n",
    "\n",
    "1. more refined results,\n",
    "2. using less traversal steps, and\n",
    "3. with a score from KNN that allows us to rank order the results based on aggregate similarity"
   ]
  },
  {
   "cell_type": "code",
   "execution_count": 0,
   "metadata": {
    "application/vnd.databricks.v1+cell": {
     "cellMetadata": {
      "byteLimit": 2048000,
      "rowLimit": 10000
     },
     "inputWidgets": {},
     "nuid": "43b3de7d-0237-4ac9-872f-19a847f051d5",
     "showTitle": false,
     "title": ""
    }
   },
   "outputs": [
    {
     "data": {
      "text/html": [
       "<div>\n",
       "<style scoped>\n",
       "    .dataframe tbody tr th:only-of-type {\n",
       "        vertical-align: middle;\n",
       "    }\n",
       "\n",
       "    .dataframe tbody tr th {\n",
       "        vertical-align: top;\n",
       "    }\n",
       "\n",
       "    .dataframe thead th {\n",
       "        text-align: right;\n",
       "    }\n",
       "</style>\n",
       "<table border=\"1\" class=\"dataframe\">\n",
       "  <thead>\n",
       "    <tr style=\"text-align: right;\">\n",
       "      <th></th>\n",
       "      <th>newsId</th>\n",
       "      <th>title</th>\n",
       "      <th>category</th>\n",
       "      <th>subcategory</th>\n",
       "      <th>totalScore</th>\n",
       "    </tr>\n",
       "  </thead>\n",
       "  <tbody>\n",
       "    <tr>\n",
       "      <th>0</th>\n",
       "      <td>N287</td>\n",
       "      <td>Three school workers charged in death of speci...</td>\n",
       "      <td>news</td>\n",
       "      <td>newscrime</td>\n",
       "      <td>4.327445</td>\n",
       "    </tr>\n",
       "    <tr>\n",
       "      <th>1</th>\n",
       "      <td>N26262</td>\n",
       "      <td>Celebrity plastic surgery transformations</td>\n",
       "      <td>entertainment</td>\n",
       "      <td>entertainment-celebrity</td>\n",
       "      <td>4.309714</td>\n",
       "    </tr>\n",
       "    <tr>\n",
       "      <th>2</th>\n",
       "      <td>N23446</td>\n",
       "      <td>Prince Harry and Meghan Markle just shared a n...</td>\n",
       "      <td>lifestyle</td>\n",
       "      <td>lifestyleroyals</td>\n",
       "      <td>3.481054</td>\n",
       "    </tr>\n",
       "    <tr>\n",
       "      <th>3</th>\n",
       "      <td>N62360</td>\n",
       "      <td>The son of a Chinese billionaire has been bann...</td>\n",
       "      <td>news</td>\n",
       "      <td>newsworld</td>\n",
       "      <td>3.474919</td>\n",
       "    </tr>\n",
       "    <tr>\n",
       "      <th>4</th>\n",
       "      <td>N33619</td>\n",
       "      <td>College gymnast dies following training accide...</td>\n",
       "      <td>news</td>\n",
       "      <td>newsus</td>\n",
       "      <td>3.459343</td>\n",
       "    </tr>\n",
       "    <tr>\n",
       "      <th>...</th>\n",
       "      <td>...</td>\n",
       "      <td>...</td>\n",
       "      <td>...</td>\n",
       "      <td>...</td>\n",
       "      <td>...</td>\n",
       "    </tr>\n",
       "    <tr>\n",
       "      <th>240</th>\n",
       "      <td>N42397</td>\n",
       "      <td>Hilaria Baldwin Shares Emotional Video Reveali...</td>\n",
       "      <td>tv</td>\n",
       "      <td>tv-celebrity</td>\n",
       "      <td>0.859922</td>\n",
       "    </tr>\n",
       "    <tr>\n",
       "      <th>241</th>\n",
       "      <td>N27581</td>\n",
       "      <td>Amazon's $1.5 million political gambit backfir...</td>\n",
       "      <td>finance</td>\n",
       "      <td>finance-companies</td>\n",
       "      <td>0.859922</td>\n",
       "    </tr>\n",
       "    <tr>\n",
       "      <th>242</th>\n",
       "      <td>N57090</td>\n",
       "      <td>Kevin Hart Makes First Official Appearance at ...</td>\n",
       "      <td>entertainment</td>\n",
       "      <td>awards</td>\n",
       "      <td>0.859922</td>\n",
       "    </tr>\n",
       "    <tr>\n",
       "      <th>243</th>\n",
       "      <td>N1019</td>\n",
       "      <td>Meghan Markle Smudged Makeup on a Fan's Coat &amp;...</td>\n",
       "      <td>lifestyle</td>\n",
       "      <td>lifestyleroyals</td>\n",
       "      <td>0.859922</td>\n",
       "    </tr>\n",
       "    <tr>\n",
       "      <th>244</th>\n",
       "      <td>N63550</td>\n",
       "      <td>Why Kate &amp; Meghan Were on Different Balconies ...</td>\n",
       "      <td>lifestyle</td>\n",
       "      <td>lifestyleroyals</td>\n",
       "      <td>0.859922</td>\n",
       "    </tr>\n",
       "  </tbody>\n",
       "</table>\n",
       "<p>245 rows × 5 columns</p>\n",
       "</div>"
      ],
      "text/plain": [
       "     newsId  ... totalScore\n",
       "0      N287  ...   4.327445\n",
       "1    N26262  ...   4.309714\n",
       "2    N23446  ...   3.481054\n",
       "3    N62360  ...   3.474919\n",
       "4    N33619  ...   3.459343\n",
       "..      ...  ...        ...\n",
       "240  N42397  ...   0.859922\n",
       "241  N27581  ...   0.859922\n",
       "242  N57090  ...   0.859922\n",
       "243   N1019  ...   0.859922\n",
       "244  N63550  ...   0.859922\n",
       "\n",
       "[245 rows x 5 columns]"
      ]
     },
     "execution_count": 56,
     "metadata": {},
     "output_type": "execute_result"
    }
   ],
   "source": [
    "gds.run_cypher( '''\n",
    "    MATCH(u:User {userId: $userId})-[:CLICKED]->(n:News)\n",
    "    WITH collect(id(n)) AS clickedNewsIds\n",
    "\n",
    "    //get similar News according to KNN and exclude previously clicked news\n",
    "    MATCH (u:User {userId: $userId})-[s:SIMILAR_USER]->(similar:User)-[:CLICKED]->(news:News)\n",
    "    WHERE NOT id(news) IN clickedNewsIds\n",
    "\n",
    "    //aggregate and return ranked results\n",
    "    RETURN DISTINCT news.newsId as newsId,\n",
    "        news.title AS title,\n",
    "        news.category AS category,\n",
    "        news.subcategory As subcategory,\n",
    "        sum(s.score) AS totalScore ORDER BY totalScore DESC\n",
    "    ''', params={'userId': USER_ID})"
   ]
  },
  {
   "cell_type": "markdown",
   "metadata": {
    "application/vnd.databricks.v1+cell": {
     "cellMetadata": {},
     "inputWidgets": {},
     "nuid": "213df66b-fa85-4150-8a55-32ca41e21322",
     "showTitle": false,
     "title": ""
    }
   },
   "source": [
    "We cut back results significantly compared to the previous 6K with pure Cypher."
   ]
  },
  {
   "cell_type": "markdown",
   "metadata": {
    "application/vnd.databricks.v1+cell": {
     "cellMetadata": {},
     "inputWidgets": {},
     "nuid": "62306540-b7cf-4eaf-a0fe-f4092d6ea5b5",
     "showTitle": false,
     "title": ""
    }
   },
   "source": [
    "Drop any previous tables we created."
   ]
  },
  {
   "cell_type": "code",
   "execution_count": 0,
   "metadata": {
    "application/vnd.databricks.v1+cell": {
     "cellMetadata": {
      "byteLimit": 2048000,
      "implicitDf": true,
      "rowLimit": 10000
     },
     "inputWidgets": {},
     "nuid": "93982b13-e6af-484b-a8d2-55adbb6696c2",
     "showTitle": false,
     "title": ""
    }
   },
   "outputs": [
    {
     "data": {
      "text/html": [
       "<style scoped>\n",
       "  .table-result-container {\n",
       "    max-height: 300px;\n",
       "    overflow: auto;\n",
       "  }\n",
       "  table, th, td {\n",
       "    border: 1px solid black;\n",
       "    border-collapse: collapse;\n",
       "  }\n",
       "  th, td {\n",
       "    padding: 5px;\n",
       "  }\n",
       "  th {\n",
       "    text-align: left;\n",
       "  }\n",
       "</style><div class='table-result-container'><table class='table-result'><thead style='background-color: white'><tr></tr></thead><tbody></tbody></table></div>"
      ]
     },
     "metadata": {
      "application/vnd.databricks.v1+output": {
       "addedWidgets": {},
       "aggData": [],
       "aggError": "",
       "aggOverflow": false,
       "aggSchema": [],
       "aggSeriesLimitReached": false,
       "aggType": "",
       "arguments": {},
       "columnCustomDisplayInfos": {},
       "data": [],
       "datasetInfos": [],
       "dbfsResultPath": null,
       "isJsonSchema": true,
       "metadata": {
        "dataframeName": null
       },
       "overflow": false,
       "plotOptions": {
        "customPlotOptions": {},
        "displayType": "table",
        "pivotAggregation": null,
        "pivotColumns": null,
        "xColumns": null,
        "yColumns": null
       },
       "removedWidgets": [],
       "schema": [],
       "type": "table"
      }
     },
     "output_type": "display_data"
    }
   ],
   "source": [
    "%sql\n",
    "DROP TABLE IF EXISTS news_with_embeddings;\n",
    "DROP TABLE IF EXISTS users_with_embeddings;\n",
    "DROP TABLE IF EXISTS similar_users;"
   ]
  },
  {
   "cell_type": "markdown",
   "metadata": {
    "application/vnd.databricks.v1+cell": {
     "cellMetadata": {},
     "inputWidgets": {},
     "nuid": "c4622b68-f198-4fdd-a687-81c73258cf4f",
     "showTitle": false,
     "title": ""
    }
   },
   "source": [
    "### Pull enhanced data from Neo4j and write to a Table"
   ]
  },
  {
   "cell_type": "code",
   "execution_count": 0,
   "metadata": {
    "application/vnd.databricks.v1+cell": {
     "cellMetadata": {
      "byteLimit": 2048000,
      "rowLimit": 10000
     },
     "inputWidgets": {},
     "nuid": "6f4eac3f-4a40-4206-9839-fe65891365b8",
     "showTitle": false,
     "title": ""
    }
   },
   "outputs": [],
   "source": [
    "\n",
    "df = (spark.read.format(\"org.neo4j.spark.DataSource\")\n",
    "        .option(\"url\", Neo4jConnectionInfo[\"URI\"])\n",
    "        .option(\"authentication.basic.username\", Neo4jConnectionInfo[\"Username\"])\n",
    "        .option(\"authentication.basic.password\", Neo4jConnectionInfo[\"Password\"])\n",
    "        .option(\"labels\", \":User\")\n",
    "        .load())\n",
    "\n",
    "df.write.saveAsTable(\"users_with_embeddings\") \n",
    "\n",
    "# df = (spark.read.format(\"org.neo4j.spark.DataSource\")\n",
    "#         .option(\"url\", Neo4jConnectionInfo[\"URI\"])\n",
    "#         .option(\"authentication.basic.username\", Neo4jConnectionInfo[\"Username\"])\n",
    "#         .option(\"authentication.basic.password\", Neo4jConnectionInfo[\"Password\"])\n",
    "#         .option(\"labels\", \":News\")\n",
    "#         .load())\n",
    "\n",
    "# df.write.saveAsTable(\"news_with_embeddings\")    "
   ]
  },
  {
   "cell_type": "code",
   "execution_count": 0,
   "metadata": {
    "application/vnd.databricks.v1+cell": {
     "cellMetadata": {
      "byteLimit": 2048000,
      "rowLimit": 10000
     },
     "inputWidgets": {},
     "nuid": "07f4e82c-dbad-43ff-8668-b2e55d5c039a",
     "showTitle": false,
     "title": ""
    }
   },
   "outputs": [
    {
     "name": "stdout",
     "output_type": "stream",
     "text": [
      "+------+-------------+------------------+\n",
      "|userId|similarUserId|             score|\n",
      "+------+-------------+------------------+\n",
      "|U13740|       U16783|0.8351926803588867|\n",
      "|U13740|       U82601|0.8353410959243774|\n",
      "|U13740|       U45589|0.8467587828636169|\n",
      "|U13740|       U63767| 0.833566427230835|\n",
      "|U13740|       U25337|0.8391966819763184|\n",
      "|U13740|       U78897|0.8361396789550781|\n",
      "|U13740|       U78421|0.8339868783950806|\n",
      "|U13740|       U47684|0.8360647559165955|\n",
      "|U13740|       U62989|0.8382823467254639|\n",
      "|U13740|       U66970|0.8337756991386414|\n",
      "|U91836|       U52540|0.7402944564819336|\n",
      "|U91836|       U83199|0.7376580834388733|\n",
      "|U91836|       U18659|0.7591962814331055|\n",
      "|U91836|       U44963| 0.738801896572113|\n",
      "|U91836|       U91901|0.7295254468917847|\n",
      "|U91836|       U56351|0.7339047193527222|\n",
      "|U91836|       U54683|0.7382723093032837|\n",
      "|U91836|       U63843|  0.73367840051651|\n",
      "|U91836|       U62107|0.7278967499732971|\n",
      "|U91836|       U59132|0.7274794578552246|\n",
      "+------+-------------+------------------+\n",
      "only showing top 20 rows\n",
      "\n"
     ]
    }
   ],
   "source": [
    "\n",
    "similarUserDf = (spark.read.format(\"org.neo4j.spark.DataSource\")\n",
    "        .option(\"url\", Neo4jConnectionInfo[\"URI\"])\n",
    "        .option(\"authentication.basic.username\", Neo4jConnectionInfo[\"Username\"])\n",
    "        .option(\"authentication.basic.password\", Neo4jConnectionInfo[\"Password\"])\n",
    "        .option(\"query\", \"\"\"\n",
    "                MATCH (user:User)-[s:SIMILAR_USER]->(similar)\n",
    "                RETURN user.userId as userId, similar.userId as similarUserId, s.score as score\n",
    "            \"\"\")\n",
    "        .load())\n",
    "\n",
    "similarUserDf.show()\n",
    "\n",
    "similarUserDf.write.saveAsTable(\"similar_users\")\n"
   ]
  }
 ],
 "metadata": {
  "application/vnd.databricks.v1+notebook": {
   "dashboards": [],
   "language": "python",
   "notebookMetadata": {
    "mostRecentlyExecutedCommandWithImplicitDF": {
     "commandId": 701281008361436,
     "dataframes": [
      "_sqldf"
     ]
    },
    "pythonIndentUnit": 4
   },
   "notebookName": "Full demo",
   "widgets": {}
  },
  "kernelspec": {
   "display_name": "Python 3 (ipykernel)",
   "language": "python",
   "name": "python3"
  },
  "language_info": {
   "codemirror_mode": {
    "name": "ipython",
    "version": 3
   },
   "file_extension": ".py",
   "mimetype": "text/x-python",
   "name": "python",
   "nbconvert_exporter": "python",
   "pygments_lexer": "ipython3",
   "version": "3.7.9"
  }
 },
 "nbformat": 4,
 "nbformat_minor": 1
}
